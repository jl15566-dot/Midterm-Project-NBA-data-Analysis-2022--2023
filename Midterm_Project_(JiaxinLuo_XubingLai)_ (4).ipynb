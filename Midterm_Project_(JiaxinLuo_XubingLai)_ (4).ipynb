{
  "nbformat": 4,
  "nbformat_minor": 0,
  "metadata": {
    "colab": {
      "provenance": []
    },
    "kernelspec": {
      "name": "python3",
      "display_name": "Python 3"
    },
    "language_info": {
      "name": "python"
    }
  },
  "cells": [
    {
      "cell_type": "markdown",
      "source": [
        "#**Midterm Project**\n",
        "##**2022-2023 NBA playres' data analysis: whether Embiid deserved the MVP honor?**\n",
        "For the 2022-2023 NBA season, Joel Embiid was awarded the MVP. However, this selection was surrounded by controversy. This analysis will focus solely on the data to evaluate, from multiple perspectives, whether Embiid deserved the MVP honor.\n",
        "\n",
        "\n",
        "\n",
        "##**First Part:** Getting Data\n",
        "We extract data from BasketBallReference to fetch Joel Embiid's complete game log and per-game statistics for all NBA players in 2022-23 season\n"
      ],
      "metadata": {
        "id": "4qd2l-iccUV2"
      }
    },
    {
      "cell_type": "markdown",
      "source": [
        "###Concept learned in class\n",
        "pd.read_html() for web table data extraction\n",
        "\n",
        "DataFrame creation and basic operations, Data cleaning, Data type conversion, Function definition, Time control)"
      ],
      "metadata": {
        "id": "VkAswR4rs5Fj"
      }
    },
    {
      "cell_type": "markdown",
      "source": [
        "##**we extract data from [BasketBall Reference](https://www.basketball-reference.com/players/e/embiijo01/gamelog/2023)**\n"
      ],
      "metadata": {
        "id": "LcO4d5julojI"
      }
    },
    {
      "cell_type": "code",
      "source": [
        "!pip install bokeh seaborn\n",
        "from bokeh.plotting import figure, show, output_notebook\n",
        "from bokeh.models import HoverTool, ColumnDataSource, ColorBar, LinearColorMapper\n",
        "from bokeh.layouts import column\n",
        "from bokeh.io import push_notebook"
      ],
      "metadata": {
        "id": "Z0cv6Lo7S5FJ"
      },
      "execution_count": null,
      "outputs": []
    },
    {
      "cell_type": "code",
      "source": [
        "import pandas as pd\n",
        "import time\n",
        "import numpy as np\n",
        "import seaborn as sns\n",
        "import ipywidgets as widgets\n",
        "from IPython.display import display\n",
        "import matplotlib.pyplot as plt\n",
        "from matplotlib import pyplot as plt\n",
        "\n",
        "\n",
        "\n",
        "# Get Joel Embiid's 2022-23 season game-by-game data\n",
        "def get_embiid_gamelog():\n",
        "    \"\"\"Fetch Joel Embiid's complete game log for the 2022-23 season\"\"\"\n",
        "    url = \"https://www.basketball-reference.com/players/e/embiijo01/gamelog/2023\"\n",
        "\n",
        "    # Add delay to avoid being blocked\n",
        "    time.sleep(5)\n",
        "\n",
        "    # Read all tables from the webpage\n",
        "    all_tables = pd.read_html(url)\n",
        "\n",
        "    # Game log data is at index 7\n",
        "    embiid_df = all_tables[7]\n",
        "\n",
        "    # Clean multi-level column headers\n",
        "    if isinstance(embiid_df.columns, pd.MultiIndex):\n",
        "        embiid_df.columns = embiid_df.columns.droplevel(0)\n",
        "\n",
        "    # Remove header rows and empty rows\n",
        "    embiid_df = embiid_df[embiid_df['Rk'] != 'Rk']\n",
        "    embiid_df = embiid_df.dropna(subset=['Rk'])\n",
        "\n",
        "    # Convert numeric columns to appropriate data types\n",
        "    numeric_cols = ['Rk', 'G', 'FG', 'FGA', 'FG%', '3P', '3PA', '3P%', 'FT', 'FTA', 'FT%',\n",
        "                   'ORB', 'DRB', 'TRB', 'AST', 'STL', 'BLK', 'TOV', 'PF', 'PTS', 'GmSc']\n",
        "\n",
        "    for col in numeric_cols:\n",
        "        if col in embiid_df.columns:\n",
        "            embiid_df[col] = pd.to_numeric(embiid_df[col], errors='coerce')\n",
        "\n",
        "\n",
        "    return embiid_df\n",
        "\n",
        "# Get all players' per-game stats for 2022-23 season\n",
        "def get_season_stats():\n",
        "    \"\"\"Fetch per-game statistics for all NBA players in 2022-23 season\"\"\"\n",
        "    url = \"https://www.basketball-reference.com/leagues/NBA_2023_per_game.html\"\n",
        "\n",
        "    # Add delay to avoid being blocked\n",
        "    time.sleep(5)\n",
        "\n",
        "    # Read all tables from the webpage\n",
        "    all_tables = pd.read_html(url)\n",
        "\n",
        "    # Player stats table is the first one\n",
        "    season_df = all_tables[0]\n",
        "\n",
        "    # Clean multi-level column headers\n",
        "    if isinstance(season_df.columns, pd.MultiIndex):\n",
        "        season_df.columns = season_df.columns.droplevel(0)\n",
        "\n",
        "    # Remove header rows and empty rows\n",
        "    season_df = season_df[season_df['Player'] != 'Player']\n",
        "    season_df = season_df.dropna(subset=['Player'])\n",
        "\n",
        "    # Convert numeric columns to appropriate data types\n",
        "    numeric_cols = ['G', 'GS', 'MP', 'FG', 'FGA', 'FG%', '3P', '3PA', '3P%',\n",
        "                   'FT', 'FTA', 'FT%', 'ORB', 'DRB', 'TRB', 'AST', 'STL', 'BLK', 'TOV', 'PF', 'PTS']\n",
        "\n",
        "    for col in numeric_cols:\n",
        "        if col in season_df.columns:\n",
        "            season_df[col] = pd.to_numeric(season_df[col], errors='coerce')\n",
        "\n",
        "    return season_df\n",
        "\n",
        "\n",
        "embiid_gamelog = get_embiid_gamelog()\n",
        "season_stats = get_season_stats()\n",
        "\n",
        "# Display basic information about the datasets\n",
        "\n",
        "print(f\"Embiid Game Log: {embiid_gamelog.shape[0]} games, {embiid_gamelog.shape[1]} columns\")\n",
        "print(f\"Season Stats: {season_stats.shape[0]} players, {season_stats.shape[1]} columns\")\n"
      ],
      "metadata": {
        "id": "9hFNOBA64x7N"
      },
      "execution_count": null,
      "outputs": []
    },
    {
      "cell_type": "code",
      "source": [
        "print(f\"Embiid Data Sample:\")\n",
        "embiid_gamelog.head(3)"
      ],
      "metadata": {
        "id": "ziGYjElFwKHo"
      },
      "execution_count": null,
      "outputs": []
    },
    {
      "cell_type": "code",
      "source": [
        "print(f\"Season Stats Sample:\")\n",
        "season_stats.head(3)"
      ],
      "metadata": {
        "id": "fjy-Y3E2FSIy"
      },
      "execution_count": null,
      "outputs": []
    },
    {
      "cell_type": "markdown",
      "source": [
        "##**Second Part:** Explore personal data\n"
      ],
      "metadata": {
        "id": "qoFR603x2xvE"
      }
    },
    {
      "cell_type": "markdown",
      "source": [
        "###Concept learned in class list:\n",
        "\n",
        "**Python Fundamentals 1**\n",
        "\n",
        "Basic Python syntax and data structures (lists, dictionaries)\n",
        "\n",
        "Variable assignment and basic operations\n",
        "\n",
        "Function calls and method usage\n",
        "\n",
        "**Data Structures and Introduction to Pandas\n",
        "Pandas DataFrame Operations:**\n",
        "\n",
        "Creating DataFrames: pd.DataFrame()\n",
        "\n",
        "Data aggregation: mean(), max(), sum()\n",
        "\n",
        "Grouped statistics: groupby(), agg()\n",
        "\n",
        "Data filtering and boolean indexing\n",
        "\n",
        "Column operations and calculated columns\n",
        "\n",
        "**Intro to pandas / Introduction to pandas\n",
        "Advanced Pandas Features**\n",
        "\n",
        "Data sorting: sort_values()\n",
        "\n",
        "Resetting index: reset_index()\n",
        "\n",
        "Rolling calculations: rolling()\n",
        "\n",
        "Data binning: pd.cut()\n",
        "\n",
        "String operations: str.contains()\n",
        "\n",
        "Data type conversion: astype()\n",
        "\n",
        "datetime, and matplotlib intro\n",
        "Time Series Processing:\n",
        "\n",
        "Date conversion: pd.to_datetime()\n",
        "\n",
        "Time feature extraction: dt.month_name()\n",
        "\n",
        "**Data Visualization:**\n",
        "\n",
        "Basic Matplotlib plotting\n",
        "\n",
        "Subplot creation: plt.subplots()\n",
        "\n",
        "Multiple chart types: line plots, bar charts, histograms\n",
        "\n",
        "Chart styling and customization\n",
        "\n",
        "**More plotting with matplotlib and seaborn\n",
        "Advanced Visualization:**\n",
        "\n",
        "Seaborn heatmaps: sns.heatmap()\n",
        "\n",
        "Complex layouts: plt.tight_layout()\n",
        "\n",
        "Multi-subplot coordination\n",
        "\n",
        "Color and style customization"
      ],
      "metadata": {
        "id": "Tob6ssmIvuHb"
      }
    },
    {
      "cell_type": "markdown",
      "source": [
        "###1. Basic Per Game Averages"
      ],
      "metadata": {
        "id": "iuMYCBeYMoja"
      }
    },
    {
      "cell_type": "code",
      "source": [
        "# 1. Basic Per Game Averages (DataFrame format)\n",
        "basic_avgs = pd.DataFrame({\n",
        "    'Stat': ['Points', 'Rebounds', 'Assists', 'Steals', 'Blocks',\n",
        "             'FG%', '3P%', 'FT%'],\n",
        "    'Average': [\n",
        "        embiid_gamelog['PTS'].mean(),\n",
        "        embiid_gamelog['TRB'].mean(),\n",
        "        embiid_gamelog['AST'].mean(),\n",
        "        embiid_gamelog['STL'].mean(),\n",
        "        embiid_gamelog['BLK'].mean(),\n",
        "        embiid_gamelog['FG%'].mean(),\n",
        "        embiid_gamelog['3P%'].mean(),\n",
        "        embiid_gamelog['FT%'].mean()\n",
        "    ]\n",
        "})\n",
        "\n",
        "\n",
        "print(\"Basic Per Game Averages\")\n",
        "print(basic_avgs.to_string(index=False, float_format='%.3f'))"
      ],
      "metadata": {
        "id": "YLnq1m3v2twe"
      },
      "execution_count": null,
      "outputs": []
    },
    {
      "cell_type": "markdown",
      "source": [
        "**Conclusion**: Joel Embiid has Strong per-game statistics especially in scoring"
      ],
      "metadata": {
        "id": "WSFDBDB6yu8z"
      }
    },
    {
      "cell_type": "markdown",
      "source": [
        "###2. Game Count Statistics (DataFrame format)"
      ],
      "metadata": {
        "id": "FhhL2g3VQQGH"
      }
    },
    {
      "cell_type": "code",
      "source": [
        "game_counts = pd.DataFrame({\n",
        "    'Category': ['Total Games', 'Double-Doubles', '30+ Point Games', '40+ Point Games'],\n",
        "    'Count': [\n",
        "        len(embiid_gamelog),\n",
        "        ((embiid_gamelog['PTS'] >= 10) & (embiid_gamelog['TRB'] >= 10)).sum(),\n",
        "        (embiid_gamelog['PTS'] >= 30).sum(),\n",
        "        (embiid_gamelog['PTS'] >= 40).sum()\n",
        "    ]\n",
        "})\n",
        "\n",
        "print(\"Game Count Statistics\")\n",
        "print(game_counts.to_string(index=False))"
      ],
      "metadata": {
        "id": "goGW37WR8rdU"
      },
      "execution_count": null,
      "outputs": []
    },
    {
      "cell_type": "markdown",
      "source": [
        "**Conclusion**: Joel Embiid has 50% to get 30 points a night, crazy performence."
      ],
      "metadata": {
        "id": "PIUu0lwEzA2k"
      }
    },
    {
      "cell_type": "markdown",
      "source": [
        "### 3. Single Game Highs"
      ],
      "metadata": {
        "id": "EkvXkcr6Qg60"
      }
    },
    {
      "cell_type": "code",
      "source": [
        "\n",
        "single_highs = pd.DataFrame({\n",
        "    'Stat': ['Points', 'Rebounds', 'Assists', 'Steals', 'Blocks'],\n",
        "    'High': [\n",
        "        embiid_gamelog['PTS'].max(),\n",
        "        embiid_gamelog['TRB'].max(),\n",
        "        embiid_gamelog['AST'].max(),\n",
        "        embiid_gamelog['STL'].max(),\n",
        "        embiid_gamelog['BLK'].max()\n",
        "    ]\n",
        "})\n",
        "\n",
        "print(\"Single Game Highs\")\n",
        "print(single_highs.to_string(index=False))"
      ],
      "metadata": {
        "id": "G8qO2Fnd9MRV"
      },
      "execution_count": null,
      "outputs": []
    },
    {
      "cell_type": "markdown",
      "source": [
        "**Conclusion**: Great performance, has great ability to influence the game from all aspects."
      ],
      "metadata": {
        "id": "PNARojNXzMz7"
      }
    },
    {
      "cell_type": "markdown",
      "source": [
        "### 4. Advanced Statistics\n",
        "TS% (True Shooting Percentage): Measures scoring efficiency by accounting for 2-point, 3-point, and free throw attempts.\n",
        "\n",
        "eFG% (Effective Field Goal Percentage): Adjusts FG% to reflect the extra value of 3-pointers compared to 2-pointers.\n",
        "\n",
        "PTS_per_Shot: Calculates points scored per field goal attempt, showing shot selection efficiency."
      ],
      "metadata": {
        "id": "FN-53gpMRu9n"
      }
    },
    {
      "cell_type": "code",
      "source": [
        "\n",
        "embiid_gamelog['TS%'] = embiid_gamelog['PTS'] / (2 * (embiid_gamelog['FGA'] + 0.44 * embiid_gamelog['FTA']))\n",
        "embiid_gamelog['eFG%'] = (embiid_gamelog['FG'] + 0.5 * embiid_gamelog['3P']) / embiid_gamelog['FGA']\n",
        "embiid_gamelog['PTS_per_Shot'] = embiid_gamelog['PTS'] / embiid_gamelog['FGA']\n",
        "embiid_gamelog['AST_TOV_Ratio'] = embiid_gamelog['AST'] / embiid_gamelog['TOV']\n",
        "embiid_gamelog['Usage_Rate_Est'] = (embiid_gamelog['FGA'] + 0.44 * embiid_gamelog['FTA'] + embiid_gamelog['TOV']) * 40 / 34\n",
        "\n",
        "advanced_stats = pd.DataFrame({\n",
        "    'Stat': ['TS%', 'eFG%', 'PTS_per_Shot','AST_TOV_Ratio','Usage_Rate_Est'],\n",
        "    'Value': [\n",
        "        embiid_gamelog['TS%'].mean(),\n",
        "        embiid_gamelog['eFG%'].mean(),\n",
        "        embiid_gamelog['PTS_per_Shot'].mean(),\n",
        "        embiid_gamelog['AST_TOV_Ratio'].mean(),\n",
        "        embiid_gamelog['Usage_Rate_Est'].mean()\n",
        "    ]\n",
        "})\n",
        "\n",
        "print(\"Advanced Statistics\")\n",
        "print(advanced_stats.to_string(index=False, float_format='%.3f'))"
      ],
      "metadata": {
        "id": "JkzmrvZH9QFD"
      },
      "execution_count": null,
      "outputs": []
    },
    {
      "cell_type": "markdown",
      "source": [
        "**Conclusion**: Amazing ability to get points."
      ],
      "metadata": {
        "id": "atDNcf6azYMA"
      }
    },
    {
      "cell_type": "markdown",
      "source": [
        "###5. Monthly Performance Trend Analysis\n",
        "This code analyzes Embiid's performance variations across different months of the season, revealing his form fluctuations and seasonal consistency."
      ],
      "metadata": {
        "id": "ZfXy2JBvVJMb"
      }
    },
    {
      "cell_type": "code",
      "source": [
        "# Extract month and analyze monthly performance trends\n",
        "embiid_gamelog['Date'] = pd.to_datetime(embiid_gamelog['Date'])\n",
        "embiid_gamelog['Month'] = embiid_gamelog['Date'].dt.month_name()\n",
        "\n",
        "monthly_stats = embiid_gamelog.groupby('Month').agg({\n",
        "    'PTS': ['mean', 'std'],\n",
        "    'TRB': 'mean',\n",
        "    'AST': 'mean',\n",
        "    'TS%': 'mean',\n",
        "    'GmSc': 'mean',\n",
        "\n",
        "}).round(2)\n",
        "\n",
        "# Add game count per month\n",
        "monthly_stats['Games_Played'] = embiid_gamelog.groupby('Month').size()\n",
        "\n",
        "# Reorder months chronologically\n",
        "month_order = ['October', 'November', 'December', 'January', 'February', 'March', 'April']\n",
        "monthly_stats = monthly_stats.reindex(month_order)\n",
        "\n",
        "print(\"MONTHLY PERFORMANCE ANALYSIS\")\n",
        "monthly_stats"
      ],
      "metadata": {
        "id": "oSibO7dkSIyG"
      },
      "execution_count": null,
      "outputs": []
    },
    {
      "cell_type": "code",
      "source": [
        "# Visualization: Three Separate Monthly Trend Charts\n",
        "fig, (ax1, ax2, ax3) = plt.subplots(1, 3, figsize=(18, 5))\n",
        "\n",
        "# Plot 1: Scoring trend\n",
        "monthly_stats[('PTS', 'mean')].plot(kind='line', marker='o', ax=ax1, color='#1f77b4', linewidth=3, markersize=8)\n",
        "ax1.set_title('Monthly Scoring Average', fontsize=14, fontweight='bold')\n",
        "ax1.set_ylabel('Points per Game', fontsize=12)\n",
        "ax1.set_xlabel('Month', fontsize=12)\n",
        "ax1.grid(True, alpha=0.3)\n",
        "ax1.tick_params(axis='x', rotation=45)\n",
        "\n",
        "# Plot 2: Rebounding trend\n",
        "monthly_stats[('TRB', 'mean')].plot(kind='line', marker='s', ax=ax2, color='#d62728', linewidth=3, markersize=8)\n",
        "ax2.set_title('Monthly Rebounding Average', fontsize=14, fontweight='bold')\n",
        "ax2.set_ylabel('Rebounds per Game', fontsize=12)\n",
        "ax2.set_xlabel('Month', fontsize=12)\n",
        "ax2.grid(True, alpha=0.3)\n",
        "ax2.tick_params(axis='x', rotation=45)\n",
        "\n",
        "# Plot 3: Efficiency trend\n",
        "monthly_stats[('TS%', 'mean')].plot(kind='line', marker='^', ax=ax3, color='#2ca02c', linewidth=3, markersize=8)\n",
        "ax3.set_title('Monthly True Shooting %', fontsize=14, fontweight='bold')\n",
        "ax3.set_ylabel('TS%', fontsize=12)\n",
        "ax3.set_xlabel('Month', fontsize=12)\n",
        "ax3.grid(True, alpha=0.3)\n",
        "ax3.tick_params(axis='x', rotation=45)\n",
        "\n",
        "plt.tight_layout()\n",
        "plt.show()"
      ],
      "metadata": {
        "id": "B6MkA_ajZ94-"
      },
      "execution_count": null,
      "outputs": []
    },
    {
      "cell_type": "markdown",
      "source": [
        "**Conclusion**: Joel Embiid displayed impressive consistency and growth throughout the season. His True Shooting Percentage showed steady improvement, reflecting increasing efficiency. While scoring remained consistently high after October, February revealed his versatility - when scoring slightly decreased, he elevated his rebounding to maintain impact. This adaptability, combined with rising efficiency, demonstrates a complete MVP-caliber player who consistently contributes to winning basketball.\n",
        "\n"
      ],
      "metadata": {
        "id": "ltV3rcWYWw3m"
      }
    },
    {
      "cell_type": "markdown",
      "source": [
        "##5.(1) Closer look:Game-by-Game Performance Trends with 10-Game Rolling Averages\n",
        "This analysis employs pandas' .rolling() method with a 10-game window to transform raw game-by-game data into smoothed performance trends. By calculating moving averages, we eliminate short-term statistical noise and reveal the underlying patterns of Embiid's performance consistency throughout the entire season, providing a clearer picture of his sustained dominance beyond single-game fluctuations."
      ],
      "metadata": {
        "id": "nJ3Jqm1O0QG1"
      }
    },
    {
      "cell_type": "code",
      "source": [
        "# Prepare game-by-game data for rolling analysis\n",
        "embiid_gamelog_sorted = embiid_gamelog.sort_values('Date').reset_index(drop=True)\n",
        "\n",
        "# Calculate 10-game rolling averages\n",
        "embiid_gamelog_sorted['PTS_10game_avg'] = embiid_gamelog_sorted['PTS'].rolling(window=10, min_periods=1).mean()\n",
        "embiid_gamelog_sorted['TRB_10game_avg'] = embiid_gamelog_sorted['TRB'].rolling(window=10, min_periods=1).mean()\n",
        "embiid_gamelog_sorted['TS%_10game_avg'] = embiid_gamelog_sorted['TS%'].rolling(window=10, min_periods=1).mean()\n",
        "\n",
        "# Visualization: 10-Game Rolling Average Trends\n",
        "fig, (ax1, ax2, ax3) = plt.subplots(1, 3, figsize=(20, 6))\n",
        "\n",
        "# Plot 1: Scoring trend (10-game avg)\n",
        "ax1.plot(embiid_gamelog_sorted.index, embiid_gamelog_sorted['PTS_10game_avg'],\n",
        "         linewidth=3, color='#1f77b4', label='10-Game Avg')\n",
        "ax1.axhline(y=embiid_gamelog_sorted['PTS'].mean(), color='red', linestyle='--',\n",
        "            alpha=0.7, label=f'Season Avg: {embiid_gamelog_sorted[\"PTS\"].mean():.1f}')\n",
        "ax1.set_title('Scoring Trend (10-Game Rolling Avg)', fontsize=14, fontweight='bold')\n",
        "ax1.set_ylabel('Points per Game', fontsize=12)\n",
        "ax1.set_xlabel('Game Number', fontsize=12)\n",
        "ax1.grid(True, alpha=0.3)\n",
        "ax1.legend()\n",
        "\n",
        "# Plot 2: Rebounding trend (10-game avg)\n",
        "ax2.plot(embiid_gamelog_sorted.index, embiid_gamelog_sorted['TRB_10game_avg'],\n",
        "         linewidth=3, color='#d62728', label='10-Game Avg')\n",
        "ax2.axhline(y=embiid_gamelog_sorted['TRB'].mean(), color='red', linestyle='--',\n",
        "            alpha=0.7, label=f'Season Avg: {embiid_gamelog_sorted[\"TRB\"].mean():.1f}')\n",
        "ax2.set_title('Rebounding Trend (10-Game Rolling Avg)', fontsize=14, fontweight='bold')\n",
        "ax2.set_ylabel('Rebounds per Game', fontsize=12)\n",
        "ax2.set_xlabel('Game Number', fontsize=12)\n",
        "ax2.grid(True, alpha=0.3)\n",
        "ax2.legend()\n",
        "\n",
        "# Plot 3: Efficiency trend (10-game avg)\n",
        "ax3.plot(embiid_gamelog_sorted.index, embiid_gamelog_sorted['TS%_10game_avg'],\n",
        "         linewidth=3, color='#2ca02c', label='10-Game Avg')\n",
        "ax3.axhline(y=embiid_gamelog_sorted['TS%'].mean(), color='red', linestyle='--',\n",
        "            alpha=0.7, label=f'Season Avg: {embiid_gamelog_sorted[\"TS%\"].mean():.3f}')\n",
        "ax3.set_title('Efficiency Trend (10-Game Rolling Avg)', fontsize=14, fontweight='bold')\n",
        "ax3.set_ylabel('True Shooting %', fontsize=12)\n",
        "ax3.set_xlabel('Game Number', fontsize=12)\n",
        "ax3.grid(True, alpha=0.3)\n",
        "ax3.legend()\n",
        "\n",
        "plt.tight_layout()\n",
        "plt.show()"
      ],
      "metadata": {
        "id": "umqCCfkIzL-D"
      },
      "execution_count": null,
      "outputs": []
    },
    {
      "cell_type": "markdown",
      "source": [
        "**Conclusion**: Based on the 10-game rolling average analysis, Joel Embiid demonstrated remarkable consistency throughout the season across all key performance metrics. His scoring output maintained steady levels near his season average, showing minimal volatility and no prolonged slumps. Similarly, his rebounding numbers remained reliably consistent, while his True Shooting percentage reflected sustained offensive efficiency over the course of the season. This stability across scoring, rebounding, and efficiency metrics underscores Embiid's durability and reliability as a premier two-way player, confirming his ability to deliver predictable, high-level performance night after night—a hallmark of truly elite NBA talent."
      ],
      "metadata": {
        "id": "FUNhYLNYIdoq"
      }
    },
    {
      "cell_type": "markdown",
      "source": [],
      "metadata": {
        "id": "0r363Hfgf99A"
      }
    },
    {
      "cell_type": "markdown",
      "source": [
        "##6. Game Impact Analysis\n",
        "Analyzes the difference in Embiid's performance based on game outcomes, evaluating his actual impact on winning and losing."
      ],
      "metadata": {
        "id": "9x-T6umfXO_c"
      }
    },
    {
      "cell_type": "code",
      "source": [
        "\n",
        "# Analyze performance impact on game outcomes\n",
        "embiid_gamelog['Win'] = embiid_gamelog['Result'].str.contains('W')\n",
        "\n",
        "# Use only existing columns for win-loss comparison\n",
        "available_stats = {}\n",
        "for col in ['PTS', 'TRB', 'AST', 'TS%', 'GmSc', 'TOV', 'PF']:\n",
        "    if col in embiid_gamelog.columns:\n",
        "        if col == 'PTS':\n",
        "            available_stats[col] = ['mean', 'count']\n",
        "        else:\n",
        "            available_stats[col] = 'mean'\n",
        "\n",
        "win_loss_comparison = embiid_gamelog.groupby('Win').agg(available_stats).round(2)\n",
        "\n",
        "print(\"PERFORMANCE IMPACT: WINS VS LOSSES\")\n",
        "win_loss_comparison"
      ],
      "metadata": {
        "id": "DCbTJUfMVSXY"
      },
      "execution_count": null,
      "outputs": []
    },
    {
      "cell_type": "code",
      "source": [
        "# Visualization: Win/Loss Performance Comparison\n",
        "win_stats = embiid_gamelog[embiid_gamelog['Win'] == True]\n",
        "loss_stats = embiid_gamelog[embiid_gamelog['Win'] == False]\n",
        "\n",
        "comparison_data = pd.DataFrame({\n",
        "    'Wins': [win_stats['PTS'].mean(), win_stats['TRB'].mean(), win_stats['AST'].mean(), win_stats['TS%'].mean()],\n",
        "    'Losses': [loss_stats['PTS'].mean(), loss_stats['TRB'].mean(), loss_stats['AST'].mean(), loss_stats['TS%'].mean()]\n",
        "}, index=['Points', 'Rebounds', 'Assists', 'TS%'])\n",
        "\n",
        "plt.figure(figsize=(10, 6))\n",
        "comparison_data.plot(kind='bar', figsize=(12, 6), color=['#2ecc71', '#e74c3c'])\n",
        "plt.title('Embiid Performance: Wins vs Losses', fontsize=16, fontweight='bold')\n",
        "plt.ylabel('Average')\n",
        "plt.xticks(rotation=45)\n",
        "plt.grid(True, alpha=0.3)\n",
        "plt.legend(title='Game Result')\n",
        "plt.tight_layout()\n",
        "plt.show()"
      ],
      "metadata": {
        "id": "86WqaV7qV8se"
      },
      "execution_count": null,
      "outputs": []
    },
    {
      "cell_type": "code",
      "source": [
        "# Scoring distribution in wins vs losses\n",
        "plt.figure(figsize=(10, 6))\n",
        "\n",
        "plt.hist(win_stats['PTS'], bins=15, alpha=0.7, label='Wins', color='#2ecc71', edgecolor='black')\n",
        "plt.hist(loss_stats['PTS'], bins=15, alpha=0.7, label='Losses', color='#e74c3c', edgecolor='black')\n",
        "\n",
        "plt.xlabel('Points Scored')\n",
        "plt.ylabel('Number of Games')\n",
        "plt.title('Scoring Distribution: Wins vs Losses', fontsize=14, fontweight='bold')\n",
        "plt.legend()\n",
        "plt.grid(True, alpha=0.3)\n",
        "plt.show()"
      ],
      "metadata": {
        "id": "zVr_DcH9cdHx"
      },
      "execution_count": null,
      "outputs": []
    },
    {
      "cell_type": "code",
      "source": [
        "# Prepare data for heatmap\n",
        "# Create scoring bins\n",
        "bins = [0, 20, 25, 30, 35, 40, 45, 50, 60]\n",
        "bin_labels = ['<20', '20-24', '25-29', '30-34', '35-39', '40-44', '45-49', '50+']\n",
        "\n",
        "# Categorize games into scoring bins\n",
        "win_stats = embiid_gamelog[embiid_gamelog['Win'] == True]\n",
        "loss_stats = embiid_gamelog[embiid_gamelog['Win'] == False]\n",
        "\n",
        "win_binned = pd.cut(win_stats['PTS'], bins=bins, labels=bin_labels).value_counts().sort_index()\n",
        "loss_binned = pd.cut(loss_stats['PTS'], bins=bins, labels=bin_labels).value_counts().sort_index()\n",
        "\n",
        "# Create heatmap data\n",
        "heatmap_data = pd.DataFrame({\n",
        "    'Wins': win_binned,\n",
        "    'Losses': loss_binned\n",
        "}).T\n",
        "\n",
        "# Create the heatmap\n",
        "plt.figure(figsize=(12, 6))\n",
        "\n",
        "sns.heatmap(heatmap_data,\n",
        "            annot=True,\n",
        "            fmt='d',\n",
        "            cmap='YlOrRd',\n",
        "            linewidths=0.5,\n",
        "            cbar_kws={'label': 'Number of Games'})\n",
        "\n",
        "plt.title('Embiid Scoring Distribution: Wins vs Losses\\n(Heatmap View)',\n",
        "          fontsize=14, fontweight='bold')\n",
        "plt.xlabel('Scoring Range (Points)')\n",
        "plt.ylabel('Game Outcome')\n",
        "plt.tight_layout()\n",
        "plt.show()"
      ],
      "metadata": {
        "id": "1KEuJ7HshOcI"
      },
      "execution_count": null,
      "outputs": []
    },
    {
      "cell_type": "markdown",
      "source": [
        "**Conclusion:**\n",
        "The analysis reveals Embiid's significant impact on game outcomes. When he performs at an elite level, particularly in scoring efficiency, the team's chances of winning increase substantially, demonstrating his MVP-caliber influence on the 76ers' success. The heatmap clearly reveals a strong correlation between Embiid's scoring output and game outcomes. In victories, his scoring is predominantly concentrated in the higher ranges (30+ points), while losses are more frequently associated with scoring performances below 30 points. This visualization provides compelling visual evidence of Embiid's game impact - when he achieves high scoring totals, the team's probability of winning increases significantly, further supporting his case for MVP-caliber influence on game results.\n",
        "\n"
      ],
      "metadata": {
        "id": "x9hMIyYrXpHy"
      }
    },
    {
      "cell_type": "markdown",
      "source": [
        "##7. Win-Loss Correlation Heatmap\n",
        "This heatmap visualizes the correlation between Embiid's statistical performance and game outcomes, clearly showing which metrics have the strongest relationship with winning."
      ],
      "metadata": {
        "id": "GrQIo6PhndL_"
      }
    },
    {
      "cell_type": "code",
      "source": [
        "# Prepare correlation data for win-loss analysis\n",
        "def create_win_loss_correlation_heatmap():\n",
        "    \"\"\"Create heatmap showing correlation between stats and win probability\"\"\"\n",
        "\n",
        "    # Select key performance metrics to analyze\n",
        "    performance_metrics = ['PTS', 'TRB', 'AST', 'STL', 'BLK', 'TS%', 'TOV', 'PF']\n",
        "\n",
        "    # Convert Win to numeric (1 for win, 0 for loss)\n",
        "    embiid_gamelog['Win_Numeric'] = embiid_gamelog['Win'].astype(int)\n",
        "\n",
        "    # Calculate correlation matrix\n",
        "    correlation_data = embiid_gamelog[performance_metrics + ['Win_Numeric']].corr()\n",
        "    win_correlations = correlation_data['Win_Numeric'].drop('Win_Numeric').sort_values(ascending=False)\n",
        "\n",
        "    # Create heatmap data\n",
        "    heatmap_data = pd.DataFrame(win_correlations).T\n",
        "\n",
        "    # Create the heatmap\n",
        "    plt.figure(figsize=(12, 4))\n",
        "\n",
        "    sns.heatmap(heatmap_data,\n",
        "                annot=True,\n",
        "                fmt='.3f',\n",
        "                cmap='RdYlBu',\n",
        "                center=0,\n",
        "                linewidths=1,\n",
        "                cbar_kws={'label': 'Correlation Coefficient'})\n",
        "\n",
        "    plt.title('Embiid: Statistical Correlation with Game Outcomes\\n(Positive = Higher values associated with Wins)',\n",
        "              fontsize=14, fontweight='bold', pad=20)\n",
        "    plt.xlabel('Performance Metrics')\n",
        "    plt.tight_layout()\n",
        "    plt.show()\n",
        "\n",
        "    return win_correlations\n",
        "\n",
        "# Create the correlation heatmap\n",
        "win_correlations = create_win_loss_correlation_heatmap()"
      ],
      "metadata": {
        "id": "G_YjgtecnkYS"
      },
      "execution_count": null,
      "outputs": []
    },
    {
      "cell_type": "markdown",
      "source": [
        "**Analysis**:This correlation heatmap quantitatively measures the relationship between Joel Embiid's individual statistics and game outcomes, revealing which aspects of his performance most directly contribute to 76ers victories. The analysis calculates Pearson correlation coefficients between key metrics (points, rebounds, assists, steals, blocks, efficiency, turnovers) and binary win/loss results, providing a data-driven assessment of his impact on winning basketball.\n",
        "\n",
        "**Conclusion**: The analysis demonstrates that Embiid's scoring efficiency (TS%) exhibits the strongest positive correlation with winning, followed closely by his scoring volume (PTS). This empirical evidence solidly supports his MVP credentials, confirming that when he performs at an elite offensive level, the team's probability of victory increases significantly. The data validates that Embiid's offensive dominance was the primary driver of his team's success during the 2022-23 season."
      ],
      "metadata": {
        "id": "U5yPzsTMn-3X"
      }
    },
    {
      "cell_type": "markdown",
      "source": [
        "##**Third Part:** Comparison with Other Players"
      ],
      "metadata": {
        "id": "6VfRMcs1dRng"
      }
    },
    {
      "cell_type": "markdown",
      "source": [
        "The individual analysis confirms Embiid's exceptional season, but MVP consideration requires comparative context. We now evaluate how his performance measures against other elite players, particularly fellow MVP candidates, to determine if his statistical dominance justified the award."
      ],
      "metadata": {
        "id": "2cCYUPQ8gJGL"
      }
    },
    {
      "cell_type": "markdown",
      "source": [
        "###Concept learned in class\n",
        "**Pandas & Data Analysis**\n",
        "\n",
        "DataFrame filtering & ranking calculations\n",
        "\n",
        "Data aggregation (nlargest, groupby)\n",
        "\n",
        "Statistical comparisons & normalization\n",
        "\n",
        "**Visualization**\n",
        "\n",
        "Interactive scatter plots with ipywidgets\n",
        "\n",
        "Radar charts for multi-dimensional comparison\n",
        "\n",
        "Annotations & custom styling\n",
        "\n",
        "**EDA Techniques**\n",
        "\n",
        "League ranking analysis\n",
        "\n",
        "Efficiency-volume analysis (FGA vs TS%)\n",
        "\n",
        "Player benchmarking & MVP comparisons\n",
        "\n",
        "Statistical profiling\n",
        "\n",
        "**Python Fundamentals**\n",
        "\n",
        "Functions & data manipulation\n",
        "\n",
        "Conditional logic & loops\n",
        "\n",
        "Dictionary operations"
      ],
      "metadata": {
        "id": "iHyWZB4Ax8O4"
      }
    },
    {
      "cell_type": "markdown",
      "source": [
        "### 1. Basic League Ranking Analysis"
      ],
      "metadata": {
        "id": "kENVUzNghDM5"
      }
    },
    {
      "cell_type": "code",
      "source": [
        "\n",
        "print(\"EMBIID'S LEAGUE RANKINGS\")\n",
        "\n",
        "# Filter players who meet minimum game requirement\n",
        "qualified_players = season_stats[season_stats['G'] >= 50]\n",
        "\n",
        "# Calculate actual rankings\n",
        "embiid_pts = qualified_players[qualified_players['Player'] == 'Joel Embiid']['PTS'].values[0]\n",
        "embiid_trb = qualified_players[qualified_players['Player'] == 'Joel Embiid']['TRB'].values[0]\n",
        "\n",
        "# Calculate proper rankings\n",
        "points_rank = (qualified_players['PTS'] > embiid_pts).sum() + 1\n",
        "rebounds_rank = (qualified_players['TRB'] > embiid_trb).sum() + 1\n",
        "\n",
        "print(f\"Scoring Rank: #{int(points_rank)} in NBA\")\n",
        "print(f\"Points per Game: {embiid_pts:.1f}\")\n",
        "print(f\"Rebounding Rank: #{int(rebounds_rank)} in NBA\")\n",
        "print(f\"Rebounds per Game: {embiid_trb:.1f}\")\n",
        "\n",
        "# Show top 5 scorers for context\n",
        "print(f\"\\n TOP 5 NBA SCORERS\")\n",
        "top_scorers = qualified_players.nlargest(5, 'PTS')[['Player', 'PTS']]\n",
        "print(top_scorers.to_string(index=False))"
      ],
      "metadata": {
        "id": "UsgQsQlDgUAU"
      },
      "execution_count": null,
      "outputs": []
    },
    {
      "cell_type": "markdown",
      "source": [
        "**Conclusion**: Joel Embiid cemented his status as one of the NBA's most dominant two-way players by leading the league in scoring while also ranking among the top rebounders."
      ],
      "metadata": {
        "id": "ulw2id11IoEz"
      }
    },
    {
      "cell_type": "markdown",
      "source": [
        "## 2. Interactive Efficiency-Volume Scatter Plot\n",
        "This dynamic visualization explores the crucial relationship between scoring volume and efficiency across the NBA landscape. By adjusting the scoring threshold slider, we can isolate different tiers of offensive contributors and observe how Joel Embiid's profile compares within each elite group. The plot reveals that as we filter for progressively higher-scoring thresholds (from 15+ to 25+ points per game), Embiid consistently maintains his position in the coveted upper-right quadrant - the domain of players who combine high shot volume with exceptional efficiency. This interactive exploration demonstrates that among the league's most prolific scorers, very few can match Embiid's ability to sustain elite true shooting percentages while carrying substantial offensive responsibility, highlighting a key differentiator in his MVP case against other high-usage stars.\n",
        "\n"
      ],
      "metadata": {
        "id": "kFbdnT7ox3h7"
      }
    },
    {
      "cell_type": "markdown",
      "source": [
        "##2.(1) Interact with group size"
      ],
      "metadata": {
        "id": "V6fgUzmYNqVG"
      }
    },
    {
      "cell_type": "code",
      "source": [
        "import ipywidgets as widgets\n",
        "from IPython.display import display\n",
        "\n",
        "# Prepare data for efficiency-volume analysis\n",
        "# Calculate True Shooting Percentage for all players\n",
        "season_stats_eff = season_stats.copy()\n",
        "season_stats_eff['TS%'] = season_stats_eff['PTS'] / (2 * (season_stats_eff['FGA'] + 0.44 * season_stats_eff['FTA']))\n",
        "\n",
        "# Filter qualified players (minimum 50 games and 10 FGA per game to focus on significant contributors)\n",
        "qualified_players_eff = season_stats_eff[(season_stats_eff['G'] >= 50) & (season_stats_eff['FGA'] >= 10)]\n",
        "\n",
        "def create_simple_interactive_scatter(min_ppg):\n",
        "    \"\"\"Create simple interactive scatter plot with scoring filter\"\"\"\n",
        "\n",
        "    # Filter players based on scoring threshold\n",
        "    filtered_players = qualified_players_eff[qualified_players_eff['PTS'] >= min_ppg]\n",
        "\n",
        "    # Create the plot\n",
        "    plt.figure(figsize=(12, 8))\n",
        "\n",
        "    # Create scatter plot\n",
        "    scatter = plt.scatter(filtered_players['FGA'],\n",
        "                         filtered_players['TS%'] * 100,\n",
        "                         alpha=0.7, s=50,\n",
        "                         c=filtered_players['PTS'],\n",
        "                         cmap='viridis')\n",
        "\n",
        "    # Highlight key MVP candidates\n",
        "    key_players = ['Joel Embiid', 'Nikola Jokić', 'Giannis Antetokounmpo']\n",
        "    colors = ['red', 'blue', 'green']\n",
        "\n",
        "    for i, player in enumerate(key_players):\n",
        "        player_data = filtered_players[filtered_players['Player'] == player]\n",
        "        if not player_data.empty:\n",
        "            plt.scatter(player_data['FGA'], player_data['TS%'] * 100,\n",
        "                       s=150, color=colors[i], marker='*', edgecolors='black', linewidth=2,\n",
        "                       label=player)\n",
        "            plt.annotate(player,\n",
        "                        (player_data['FGA'].values[0], player_data['TS%'].values[0] * 100),\n",
        "                        xytext=(10, 10), textcoords='offset points',\n",
        "                        fontweight='bold', fontsize=10)\n",
        "\n",
        "    # Add reference lines for averages\n",
        "    avg_fga = filtered_players['FGA'].mean()\n",
        "    avg_ts = filtered_players['TS%'].mean() * 100\n",
        "\n",
        "    plt.axvline(avg_fga, color='gray', linestyle='--', alpha=0.7, label=f'Avg FGA: {avg_fga:.1f}')\n",
        "    plt.axhline(avg_ts, color='gray', linestyle='--', alpha=0.7, label=f'Avg TS%: {avg_ts:.1f}%')\n",
        "\n",
        "    # Customize plot\n",
        "    plt.xlabel('Field Goal Attempts per Game (Volume)', fontsize=12)\n",
        "    plt.ylabel('True Shooting Percentage (Efficiency)', fontsize=12)\n",
        "    plt.title(f'NBA 2022-23: Players Averaging ≥{min_ppg} PPG\\nEfficiency vs Volume Analysis',\n",
        "              fontsize=14, fontweight='bold')\n",
        "    plt.colorbar(scatter, label='Points per Game')\n",
        "    plt.grid(True, alpha=0.3)\n",
        "    plt.legend()\n",
        "\n",
        "    # Add summary box\n",
        "    total_players = len(filtered_players)\n",
        "    plt.text(0.02, 0.98, f'Players: {total_players}',\n",
        "             transform=plt.gca().transAxes, fontsize=11,\n",
        "             bbox=dict(boxstyle=\"round,pad=0.5\", facecolor='white', alpha=0.8))\n",
        "\n",
        "    plt.tight_layout()\n",
        "    plt.show()\n",
        "\n",
        "\n",
        "# Create the interactive widget\n",
        "min_ppg_slider = widgets.IntSlider(\n",
        "    value=15,\n",
        "    min=10,\n",
        "    max=28,\n",
        "    step=1,\n",
        "    description='Minimum PPG:',\n",
        "    style={'description_width': 'initial'},\n",
        "    continuous_update=False\n",
        ")\n",
        "\n",
        "# Display the interactive plot\n",
        "print(\"Interactive Efficiency-Volume Analysis\")\n",
        "print(\"Adjust the slider to filter players by scoring threshold:\")\n",
        "widgets.interactive(create_simple_interactive_scatter, min_ppg=min_ppg_slider)"
      ],
      "metadata": {
        "id": "2tRxzo2HrrtZ"
      },
      "execution_count": null,
      "outputs": []
    },
    {
      "cell_type": "markdown",
      "source": [
        "##2.(2) Interact with Hover(Using bokeh seaborn)\n",
        "Adds crucial interactive capabilities. Now when you hover over any point, you'll see the precise data. The legend becomes clickable to toggle visibility of each series."
      ],
      "metadata": {
        "id": "8xz7PD4rMSZP"
      }
    },
    {
      "cell_type": "code",
      "source": [
        "import pandas as pd\n",
        "from bokeh.plotting import figure, show, output_notebook\n",
        "from bokeh.models import HoverTool, ColumnDataSource\n",
        "from bokeh.layouts import column\n",
        "import seaborn as sns\n",
        "\n",
        "# Enable Bokeh in notebook\n",
        "output_notebook()\n",
        "\n",
        "# Prepare data for efficiency-volume analysis\n",
        "# Calculate True Shooting Percentage for all players\n",
        "season_stats_eff = season_stats.copy()\n",
        "season_stats_eff['TS%'] = season_stats_eff['PTS'] / (2 * (season_stats_eff['FGA'] + 0.44 * season_stats_eff['FTA']))\n",
        "\n",
        "# Filter qualified players (minimum 50 games and 10 FGA per game to focus on significant contributors)\n",
        "qualified_players_eff = season_stats_eff[(season_stats_eff['G'] >= 50) & (season_stats_eff['FGA'] >= 10)]\n",
        "\n",
        "# Filter players averaging ≥15 PPG (static filter instead of interactive)\n",
        "min_ppg = 15\n",
        "filtered_players = qualified_players_eff[qualified_players_eff['PTS'] >= min_ppg]\n",
        "\n",
        "# Prepare data for Bokeh\n",
        "filtered_players = filtered_players.copy()\n",
        "filtered_players['TS%_pct'] = filtered_players['TS%'] * 100\n",
        "\n",
        "# Highlight key MVP candidates\n",
        "key_players = ['Joel Embiid', 'Nikola Jokić', 'Giannis Antetokounmpo']\n",
        "colors = ['red', 'blue', 'green']\n",
        "\n",
        "# Create visual encoding\n",
        "filtered_players['point_size'] = 10  # Default size\n",
        "filtered_players['point_color'] = '#1f77b4'  # Default color\n",
        "filtered_players['point_alpha'] = 0.7\n",
        "filtered_players['marker_type'] = 'circle'\n",
        "\n",
        "# Highlight MVP candidates\n",
        "for i, player in enumerate(key_players):\n",
        "    player_mask = filtered_players['Player'] == player\n",
        "    if player_mask.any():\n",
        "        filtered_players.loc[player_mask, 'point_size'] = 20\n",
        "        filtered_players.loc[player_mask, 'point_color'] = colors[i]\n",
        "        filtered_players.loc[player_mask, 'point_alpha'] = 1.0\n",
        "        filtered_players.loc[player_mask, 'marker_type'] = 'triangle'\n",
        "\n",
        "# Create ColumnDataSource\n",
        "source = ColumnDataSource(filtered_players)\n",
        "\n",
        "# Create the plot\n",
        "p = figure(\n",
        "    width=900,\n",
        "    height=600,\n",
        "    title=f'NBA 2022-23: Players Averaging ≥{min_ppg} PPG - Efficiency vs Volume Analysis',\n",
        "    x_axis_label='Field Goal Attempts per Game (Volume)',\n",
        "    y_axis_label='True Shooting Percentage (Efficiency)',\n",
        "    tools=\"pan,wheel_zoom,box_zoom,reset,save\"\n",
        ")\n",
        "\n",
        "# Create scatter plot\n",
        "scatter = p.scatter(\n",
        "    x='FGA',\n",
        "    y='TS%_pct',\n",
        "    source=source,\n",
        "    size='point_size',\n",
        "    color='point_color',\n",
        "    alpha='point_alpha',\n",
        "    marker='marker_type',\n",
        "    line_color='black',\n",
        "    line_width=1\n",
        ")\n",
        "\n",
        "# Add hover tool with player information\n",
        "hover = HoverTool(\n",
        "    tooltips=[\n",
        "        (\"Player\", \"@Player\"),\n",
        "        (\"PPG\", \"@PTS{0.1}\"),\n",
        "        (\"FGA\", \"@FGA{0.1}\"),\n",
        "    ],\n",
        "    mode='mouse'\n",
        ")\n",
        "\n",
        "p.add_tools(hover)\n",
        "\n",
        "# Add reference lines for averages\n",
        "avg_fga = filtered_players['FGA'].mean()\n",
        "avg_ts = filtered_players['TS%_pct'].mean()\n",
        "\n",
        "# Vertical line for average FGA\n",
        "p.line([avg_fga, avg_fga],\n",
        "       [filtered_players['TS%_pct'].min(), filtered_players['TS%_pct'].max()],\n",
        "       line_color='gray', line_dash='dashed', line_width=1, alpha=0.7,\n",
        "       legend_label=f'Avg FGA: {avg_fga:.1f}')\n",
        "\n",
        "# Horizontal line for average TS%\n",
        "p.line([filtered_players['FGA'].min(), filtered_players['FGA'].max()],\n",
        "       [avg_ts, avg_ts],\n",
        "       line_color='gray', line_dash='dashed', line_width=1, alpha=0.7,\n",
        "       legend_label=f'Avg TS%: {avg_ts:.1f}%')\n",
        "\n",
        "# Customize plot\n",
        "p.grid.grid_line_alpha = 0.3\n",
        "p.legend.location = \"top_left\"\n",
        "p.legend.background_fill_alpha = 0.8\n",
        "\n",
        "# Add summary annotation\n",
        "from bokeh.models import Label\n",
        "total_players = len(filtered_players)\n",
        "p.add_layout(Label(x=10, y=95, x_units='screen', y_units='screen',\n",
        "                  text=f'Total Players: {total_players}',\n",
        "                  background_fill_color='white', background_fill_alpha=0.8))\n",
        "\n",
        "# Display the plot\n",
        "print(\"NBA 2022-23 Efficiency vs Volume Analysis\")\n",
        "print(f\"Showing {total_players} players averaging ≥{min_ppg} PPG\")\n",
        "print(\"Hover over points to see player details\")\n",
        "show(p)"
      ],
      "metadata": {
        "id": "b7USbrIGMRDn"
      },
      "execution_count": null,
      "outputs": []
    },
    {
      "cell_type": "markdown",
      "source": [
        "**Conclusion** The interactive visualization powerfully demonstrates that Joel Embiid maintains elite efficiency even among the highest-scoring tiers of NBA players. As we filter for players averaging 20+ or 25+ points per game, Embiid consistently appears in the coveted \"high volume, high efficiency\" quadrant, a distinction shared by only a select few MVP-caliber players. This dynamic analysis reinforces his case by showing that his scoring dominance doesn't come at the expense of efficiency, setting him apart from many other high-usage players in the league."
      ],
      "metadata": {
        "id": "k92yhac_x07C"
      }
    },
    {
      "cell_type": "markdown",
      "source": [
        "##3. MVP Candidates Radar Chart Comparison"
      ],
      "metadata": {
        "id": "R26khaKUjgFz"
      }
    },
    {
      "cell_type": "code",
      "source": [
        "# Prepare data for radar chart comparison\n",
        "def prepare_radar_data():\n",
        "    \"\"\"Prepare normalized data for radar chart comparison\"\"\"\n",
        "\n",
        "    # Select MVP candidates and key metrics\n",
        "    mvp_candidates = ['Joel Embiid', 'Nikola Jokić', 'Giannis Antetokounmpo']\n",
        "\n",
        "    # Key metrics for comparison (using per game stats)\n",
        "    metrics = ['PTS', 'TRB', 'AST', 'STL', 'BLK', 'TS%']\n",
        "\n",
        "    # Filter and prepare data\n",
        "    mvp_data = season_stats_eff[season_stats_eff['Player'].isin(mvp_candidates)]\n",
        "    radar_data = mvp_data.set_index('Player')[metrics].copy()\n",
        "\n",
        "    # Normalize data for radar chart (0-1 scale)\n",
        "    # For percentages like TS%, we'll use actual values since they're already normalized\n",
        "    normalized_data = radar_data.copy()\n",
        "\n",
        "    # Normalize counting stats (PTS, TRB, AST, STL, BLK)\n",
        "    for stat in ['PTS', 'TRB', 'AST', 'STL', 'BLK']:\n",
        "        max_val = normalized_data[stat].max()\n",
        "        min_val = normalized_data[stat].min()\n",
        "        normalized_data[stat] = (normalized_data[stat] - min_val) / (max_val - min_val)\n",
        "\n",
        "    # For TS%, scale to 0-1 range\n",
        "    ts_min = normalized_data['TS%'].min()\n",
        "    ts_max = normalized_data['TS%'].max()\n",
        "    normalized_data['TS%'] = (normalized_data['TS%'] - ts_min) / (ts_max - ts_min)\n",
        "\n",
        "    return radar_data, normalized_data, metrics\n",
        "\n",
        "radar_original, radar_normalized, radar_metrics = prepare_radar_data()\n",
        "\n",
        "print(\"Original Data for Radar Chart:\")\n",
        "print(radar_original.round(2))\n",
        "print(\"\\nNormalized Data (0-1 scale):\")\n",
        "print(radar_normalized.round(2))"
      ],
      "metadata": {
        "id": "EjGE5Ewcw_LY"
      },
      "execution_count": null,
      "outputs": []
    },
    {
      "cell_type": "code",
      "source": [
        "\n",
        "def create_simple_radar():\n",
        "    \"\"\"Create clean radar chart with league benchmarks\"\"\"\n",
        "\n",
        "    mvp_candidates = ['Joel Embiid', 'Nikola Jokić', 'Giannis Antetokounmpo']\n",
        "    mvp_data = season_stats_eff[season_stats_eff['Player'].isin(mvp_candidates)]\n",
        "\n",
        "    metrics = ['PTS', 'TRB', 'AST', 'STL', 'BLK', 'TS%']\n",
        "    categories = ['Scoring', 'Rebounds', 'Assists', 'Steals', 'Blocks', 'Efficiency']\n",
        "\n",
        "    # League elite benchmarks\n",
        "    benchmarks = {\n",
        "        'PTS': (20, 35), 'TRB': (8, 15), 'AST': (4, 10),\n",
        "        'STL': (0.5, 2.0), 'BLK': (0.5, 2.5), 'TS%': (0.55, 0.70)\n",
        "    }\n",
        "\n",
        "    # Normalize data\n",
        "    normalized_data = {}\n",
        "    for player in mvp_candidates:\n",
        "        stats = mvp_data[mvp_data['Player'] == player].iloc[0]\n",
        "        normalized = []\n",
        "        for metric in metrics:\n",
        "            bench_min, bench_max = benchmarks[metric]\n",
        "            actual = stats[metric]\n",
        "            norm_val = (actual - bench_min) / (bench_max - bench_min)\n",
        "            normalized.append(max(0, min(1, norm_val)))\n",
        "        normalized_data[player] = normalized\n",
        "\n",
        "    # Create radar chart\n",
        "    N = len(categories)\n",
        "    angles = np.linspace(0, 2*np.pi, N, endpoint=False).tolist()\n",
        "    angles += angles[:1]\n",
        "\n",
        "    fig, ax = plt.subplots(figsize=(10, 8), subplot_kw={'projection': 'polar'})\n",
        "\n",
        "    colors = ['#FF6B6B', '#4ECDC4', '#45B7D1']\n",
        "    for i, player in enumerate(mvp_candidates):\n",
        "        values = normalized_data[player] + [normalized_data[player][0]]\n",
        "        ax.plot(angles, values, 'o-', linewidth=2, label=player, color=colors[i])\n",
        "        ax.fill(angles, values, alpha=0.1, color=colors[i])\n",
        "\n",
        "    ax.set_xticks(angles[:-1])\n",
        "    ax.set_xticklabels(categories)\n",
        "    ax.set_ylim(0, 1)\n",
        "    plt.title('MVP Candidates: Statistical Profiles', fontweight='bold')\n",
        "    plt.legend(bbox_to_anchor=(1.2, 1.0))\n",
        "    plt.tight_layout()\n",
        "    plt.show()\n",
        "\n",
        "create_simple_radar()"
      ],
      "metadata": {
        "id": "n4fRY6qpj3ND"
      },
      "execution_count": null,
      "outputs": []
    },
    {
      "cell_type": "markdown",
      "source": [
        "**Conclusion**: The radar chart demonstrates Embiid's distinct advantage in two crucial MVP criteria: superior offensive output and stronger defensive impact compared to other candidates. While all three excel in different areas, Embiid's combination of elite scoring volume with meaningful defensive contributions sets him apart in the MVP conversation."
      ],
      "metadata": {
        "id": "CFyhgwmxmZYp"
      }
    },
    {
      "cell_type": "markdown",
      "source": [
        "#**Conclusion for the project**:\n",
        "**Project Summary: Joel Embiid's MVP Case - A Data-Driven Analysis**\n",
        "\n",
        "This comprehensive analysis systematically evaluated Joel Embiid's 2022-23 MVP season through multiple analytical lenses. Beginning with robust data acquisition using web scraping techniques, we established a foundation of reliable game-level and season-wide statistics. The investigation progressed through three key dimensions:\n",
        "\n",
        "**Individual Dominance**: Embiid's league-leading scoring (33.1 PPG) was complemented by exceptional efficiency metrics (TS%: 0.650), demonstrating his unique ability to maintain elite efficiency despite high usage. Advanced metrics like eFG% and points per shot further validated his offensive supremacy.\n",
        "\n",
        "**Consistency & Impact**: Through rolling averages and monthly trend analysis, we observed remarkable performance stability throughout the season. The win-loss correlation analysis revealed that Embiid's scoring efficiency showed the strongest positive relationship with team success, quantitatively proving his game-changing impact.\n",
        "\n",
        "**Comparative Excellence**: When positioned against other MVP candidates, Embiid's statistical profile displayed balanced excellence across scoring, efficiency, and defensive contributions. The efficiency-volume scatter plot particularly highlighted his rare combination of high offensive output and elite shooting efficiency.\n",
        "\n",
        "The data consistently supports Embiid's MVP credentials, revealing a player who not only achieved individual statistical milestones but did so with direct, measurable impact on his team's winning outcomes. This project demonstrates how modern data analytics can illuminate the nuanced value of elite basketball performance."
      ],
      "metadata": {
        "id": "8GEWgvAxRBtb"
      }
    }
  ]
}